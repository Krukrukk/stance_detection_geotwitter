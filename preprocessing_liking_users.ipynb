{
 "cells": [
  {
   "cell_type": "markdown",
   "metadata": {},
   "source": [
    "# Łączenie danych lokalizacyjnych osób lajkujących osoby z odpowiednim nastawieniem do szczepień"
   ]
  },
  {
   "cell_type": "code",
   "execution_count": 1,
   "metadata": {},
   "outputs": [],
   "source": [
    "import pandas as pd"
   ]
  },
  {
   "cell_type": "code",
   "execution_count": 2,
   "metadata": {},
   "outputs": [],
   "source": [
    "df_tweet = pd.read_json('data/data_with_liking_users_labeled.json')\n",
    "dict_location = pd.read_pickle('data/locations_geocoded.pkl')"
   ]
  },
  {
   "cell_type": "markdown",
   "metadata": {},
   "source": [
    "## Wyciąganie informacji od Liking_users"
   ]
  },
  {
   "cell_type": "code",
   "execution_count": 3,
   "metadata": {},
   "outputs": [
    {
     "name": "stderr",
     "output_type": "stream",
     "text": [
      "C:\\Users\\MaciekM\\AppData\\Local\\Temp/ipykernel_7216/4105066461.py:8: SettingWithCopyWarning: \n",
      "A value is trying to be set on a copy of a slice from a DataFrame.\n",
      "Try using .loc[row_indexer,col_indexer] = value instead\n",
      "\n",
      "See the caveats in the documentation: https://pandas.pydata.org/pandas-docs/stable/user_guide/indexing.html#returning-a-view-versus-a-copy\n",
      "  df_location_liking_users['y3classes_numeric'] = df_location_liking_users['AutoML_label_for_3_classes_ExtraTrees']\n",
      "C:\\Users\\MaciekM\\AppData\\Local\\Temp/ipykernel_7216/4105066461.py:9: SettingWithCopyWarning: \n",
      "A value is trying to be set on a copy of a slice from a DataFrame.\n",
      "Try using .loc[row_indexer,col_indexer] = value instead\n",
      "\n",
      "See the caveats in the documentation: https://pandas.pydata.org/pandas-docs/stable/user_guide/indexing.html#returning-a-view-versus-a-copy\n",
      "  df_location_liking_users['y3classes_str'] = df_location_liking_users['AutoML_label_for_3_classes_ExtraTrees']\n"
     ]
    },
    {
     "name": "stdout",
     "output_type": "stream",
     "text": [
      "Tabela ma rozmiar (128332, 7), a otrzymany zbiór coordynatów: 128332\n"
     ]
    }
   ],
   "source": [
    "df_location_liking_users= df_tweet[['liking_user_id', \n",
    "                                    'location', \n",
    "                                    'SentimentPL_clear_full_text_without_hashtags',\n",
    "                                    'SentimentPL_clear_full_text_with_hashtags',\n",
    "                                    'SentimentPL_raw_full_text','AutoML_label_for_3_classes_ExtraTrees']]\n",
    "\n",
    "dict3classes_EN = {-1:'Przeciwnicy', 0: 'NEITHER', 1:'Zwolennicy'}\n",
    "df_location_liking_users['y3classes_numeric'] = df_location_liking_users['AutoML_label_for_3_classes_ExtraTrees']\n",
    "df_location_liking_users['y3classes_str'] = df_location_liking_users['AutoML_label_for_3_classes_ExtraTrees']\n",
    "df_location_liking_users= df_location_liking_users.drop(columns=['AutoML_label_for_3_classes_ExtraTrees'])\n",
    "df_location_liking_users= df_location_liking_users.replace({'y3classes_str': dict3classes_EN})\n",
    "df_location_liking_users= df_location_liking_users[df_location_liking_users['y3classes_numeric'] != 0]\n",
    "df_location_liking_users= df_location_liking_users[df_location_liking_users.location != \"\"].dropna(axis=0)\n",
    "\n",
    "list_of_coordinate = []\n",
    "list_of_location = []\n",
    "i = 0\n",
    "for row in df_location_liking_users.iterrows():\n",
    "    try:\n",
    "        info_location = dict_location[row[1]['location']]\n",
    "        new_coordinate = info_location[-1]\n",
    "        if type(new_coordinate) == tuple:\n",
    "            i += 0\n",
    "            list_of_location.append(info_location)\n",
    "            list_of_coordinate.append(new_coordinate)\n",
    "        else:\n",
    "            list_of_coordinate.append(\"\")\n",
    "            list_of_location.append(\"\")\n",
    "            print(info_location)\n",
    "    except:\n",
    "        list_of_coordinate.append(\"\")\n",
    "        list_of_location.append(\"\")\n",
    "\n",
    "print(f'Tabela ma rozmiar {df_location_liking_users.shape}, a otrzymany zbiór coordynatów: {len(list_of_coordinate)}')\n",
    "\n",
    "df_location_liking_users['location'] = list_of_location\n",
    "df_location_liking_users['coordinate'] = list_of_coordinate\n",
    "df_location_liking_users= df_location_liking_users[df_location_liking_users['coordinate'] != \"\"]\n",
    "df_location_liking_users['latitude'] = df_location_liking_users['coordinate'].apply(lambda x: x[0])\n",
    "df_location_liking_users['longitude'] = df_location_liking_users['coordinate'].apply(lambda x: x[1])\n",
    "df_location_liking_users['country'] = df_location_liking_users['location'].apply(lambda x: x[-2].split(', ')[-1])\n",
    "\n",
    "df_stance_liking_users = df_location_liking_users.groupby(by=['liking_user_id'])['y3classes_numeric'].sum().reset_index()\n",
    "df_stance_liking_users.columns = ['liking_user_id', 'y3classes_sum']\n",
    "df_stance_liking_users['y3classes_str_general'] = ['Zwolennicy' if sum_stance >= 0 else \"Przeciwnicy\" for sum_stance in df_stance_liking_users['y3classes_sum']]\n",
    "df_stance_liking_users = df_stance_liking_users[df_stance_liking_users['y3classes_sum'] != 0]\n",
    "\n",
    "df_loc_liking_users = pd.merge(left=df_location_liking_users, right=df_stance_liking_users, on='liking_user_id').drop_duplicates(subset=['liking_user_id']).reset_index(drop=True)"
   ]
  },
  {
   "cell_type": "code",
   "execution_count": 5,
   "metadata": {},
   "outputs": [],
   "source": [
    "df_loc_liking_users.columns= ['id', 'location', 'SentimentPL_clear_full_text_without_hashtags',\n",
    "       'SentimentPL_clear_full_text_with_hashtags',\n",
    "       'SentimentPL_raw_full_text', 'y3classes_numeric', 'y3classes_str',\n",
    "       'coordinate', 'latitude', 'longitude', 'country', 'y3classes_sum',\n",
    "       'y3classes_str_general']"
   ]
  },
  {
   "cell_type": "markdown",
   "metadata": {},
   "source": [
    "## Wyciąganie informacji dla użytkowników tweetujących"
   ]
  },
  {
   "cell_type": "code",
   "execution_count": 6,
   "metadata": {},
   "outputs": [
    {
     "data": {
      "text/plain": [
       "Index(['tweet_id', 'liking_user_id', 'location', 'created_at', 'id', 'id_str',\n",
       "       'full_text', 'truncated', 'main_hashtags', 'user_mention',\n",
       "       'in_reply_to_status_id', 'in_reply_to_status_id_str',\n",
       "       'in_reply_to_user_id', 'in_reply_to_user_id_str',\n",
       "       'in_reply_to_screen_name', 'user_id', 'user_id_str', 'geo',\n",
       "       'coordinates', 'place', 'contributors', 'is_quote_status',\n",
       "       'retweet_count', 'favorite_count', 'reply_count', 'quote_count',\n",
       "       'conversation_id', 'favorited', 'retweeted', 'possibly_sensitive',\n",
       "       'lang', 'bert_proba_0', 'bert_proba_1', 'bert_label',\n",
       "       'xg_boost_proba_0', 'xg_boost_proba_1', 'xg_boost_labels', 'cluster',\n",
       "       'sentiment_tag', 'stance_tag',\n",
       "       'SentimentPL_clear_full_text_without_hashtags',\n",
       "       'SentimentPL_clear_full_text_with_hashtags',\n",
       "       'SentimentPL_raw_full_text', 'AutoML_label_for_3_classes_ExtraTrees',\n",
       "       'AutoML_label_for_2_classes_Ensemble'],\n",
       "      dtype='object')"
      ]
     },
     "execution_count": 6,
     "metadata": {},
     "output_type": "execute_result"
    }
   ],
   "source": [
    "df_tweet.columns"
   ]
  },
  {
   "cell_type": "code",
   "execution_count": 7,
   "metadata": {},
   "outputs": [
    {
     "name": "stderr",
     "output_type": "stream",
     "text": [
      "C:\\Users\\MaciekM\\AppData\\Local\\Temp/ipykernel_7216/3609452535.py:8: SettingWithCopyWarning: \n",
      "A value is trying to be set on a copy of a slice from a DataFrame.\n",
      "Try using .loc[row_indexer,col_indexer] = value instead\n",
      "\n",
      "See the caveats in the documentation: https://pandas.pydata.org/pandas-docs/stable/user_guide/indexing.html#returning-a-view-versus-a-copy\n",
      "  df_location_tweeting_users['y3classes_numeric'] = df_location_tweeting_users['AutoML_label_for_3_classes_ExtraTrees']\n",
      "C:\\Users\\MaciekM\\AppData\\Local\\Temp/ipykernel_7216/3609452535.py:9: SettingWithCopyWarning: \n",
      "A value is trying to be set on a copy of a slice from a DataFrame.\n",
      "Try using .loc[row_indexer,col_indexer] = value instead\n",
      "\n",
      "See the caveats in the documentation: https://pandas.pydata.org/pandas-docs/stable/user_guide/indexing.html#returning-a-view-versus-a-copy\n",
      "  df_location_tweeting_users['y3classes_str'] = df_location_tweeting_users['AutoML_label_for_3_classes_ExtraTrees']\n"
     ]
    },
    {
     "name": "stdout",
     "output_type": "stream",
     "text": [
      "Tabela ma rozmiar (128332, 7), a otrzymany zbiór coordynatów: 128332\n"
     ]
    }
   ],
   "source": [
    "df_location_tweeting_users= df_tweet[['user_id', \n",
    "                                    'location', \n",
    "                                    'SentimentPL_clear_full_text_without_hashtags',\n",
    "                                    'SentimentPL_clear_full_text_with_hashtags',\n",
    "                                    'SentimentPL_raw_full_text','AutoML_label_for_3_classes_ExtraTrees']]\n",
    "\n",
    "dict3classes_EN = {-1:'Przeciwnicy', 0: 'NEITHER', 1:'Zwolennicy'}\n",
    "df_location_tweeting_users['y3classes_numeric'] = df_location_tweeting_users['AutoML_label_for_3_classes_ExtraTrees']\n",
    "df_location_tweeting_users['y3classes_str'] = df_location_tweeting_users['AutoML_label_for_3_classes_ExtraTrees']\n",
    "df_location_tweeting_users= df_location_tweeting_users.drop(columns=['AutoML_label_for_3_classes_ExtraTrees'])\n",
    "df_location_tweeting_users= df_location_tweeting_users.replace({'y3classes_str': dict3classes_EN})\n",
    "df_location_tweeting_users= df_location_tweeting_users[df_location_tweeting_users['y3classes_numeric'] != 0]\n",
    "df_location_tweeting_users= df_location_tweeting_users[df_location_tweeting_users.location != \"\"].dropna(axis=0)\n",
    "\n",
    "list_of_coordinate = []\n",
    "list_of_location = []\n",
    "i = 0\n",
    "for row in df_location_tweeting_users.iterrows():\n",
    "    try:\n",
    "        info_location = dict_location[row[1]['location']]\n",
    "        new_coordinate = info_location[-1]\n",
    "        if type(new_coordinate) == tuple:\n",
    "            i += 0\n",
    "            list_of_location.append(info_location)\n",
    "            list_of_coordinate.append(new_coordinate)\n",
    "        else:\n",
    "            list_of_coordinate.append(\"\")\n",
    "            list_of_location.append(\"\")\n",
    "            print(info_location)\n",
    "    except:\n",
    "        list_of_coordinate.append(\"\")\n",
    "        list_of_location.append(\"\")\n",
    "\n",
    "print(f'Tabela ma rozmiar {df_location_tweeting_users.shape}, a otrzymany zbiór coordynatów: {len(list_of_coordinate)}')\n",
    "\n",
    "df_location_tweeting_users['location'] = list_of_location\n",
    "df_location_tweeting_users['coordinate'] = list_of_coordinate\n",
    "df_location_tweeting_users= df_location_tweeting_users[df_location_tweeting_users['coordinate'] != \"\"]\n",
    "df_location_tweeting_users['latitude'] = df_location_tweeting_users['coordinate'].apply(lambda x: x[0])\n",
    "df_location_tweeting_users['longitude'] = df_location_tweeting_users['coordinate'].apply(lambda x: x[1])\n",
    "df_location_tweeting_users['country'] = df_location_tweeting_users['location'].apply(lambda x: x[-2].split(', ')[-1])\n",
    "\n",
    "df_stance_tweeting_users = df_location_tweeting_users.groupby(by=['user_id'])['y3classes_numeric'].sum().reset_index()\n",
    "df_stance_tweeting_users.columns = ['user_id', 'y3classes_sum']\n",
    "df_stance_tweeting_users['y3classes_str_general'] = ['Zwolennicy' if sum_stance >= 0 else \"Przeciwnicy\" for sum_stance in df_stance_tweeting_users['y3classes_sum']]\n",
    "df_stance_tweeting_users = df_stance_tweeting_users[df_stance_tweeting_users['y3classes_sum'] != 0]\n",
    "\n",
    "df_loc_tweeting_users = pd.merge(left=df_location_tweeting_users, right=df_stance_tweeting_users, on='user_id').drop_duplicates(subset=['user_id']).reset_index(drop=True)"
   ]
  },
  {
   "cell_type": "code",
   "execution_count": 8,
   "metadata": {},
   "outputs": [],
   "source": [
    "df_loc_tweeting_users.columns =  ['id', 'location', 'SentimentPL_clear_full_text_without_hashtags',\n",
    "       'SentimentPL_clear_full_text_with_hashtags',\n",
    "       'SentimentPL_raw_full_text', 'y3classes_numeric', 'y3classes_str',\n",
    "       'coordinate', 'latitude', 'longitude', 'country', 'y3classes_sum',\n",
    "       'y3classes_str_general']"
   ]
  },
  {
   "cell_type": "markdown",
   "metadata": {},
   "source": [
    "## Łączenie wszystkich danych"
   ]
  },
  {
   "cell_type": "code",
   "execution_count": 9,
   "metadata": {},
   "outputs": [],
   "source": [
    "data = pd.concat([df_loc_liking_users, df_loc_tweeting_users], axis=0).drop_duplicates(subset=['id']).reset_index(drop=True)"
   ]
  },
  {
   "cell_type": "code",
   "execution_count": 10,
   "metadata": {},
   "outputs": [
    {
     "data": {
      "text/plain": [
       "(22750, 13)"
      ]
     },
     "execution_count": 10,
     "metadata": {},
     "output_type": "execute_result"
    }
   ],
   "source": [
    "data.shape"
   ]
  },
  {
   "cell_type": "code",
   "execution_count": 11,
   "metadata": {},
   "outputs": [
    {
     "data": {
      "text/plain": [
       "Zwolennicy     18050\n",
       "Przeciwnicy     4700\n",
       "Name: y3classes_str_general, dtype: int64"
      ]
     },
     "execution_count": 11,
     "metadata": {},
     "output_type": "execute_result"
    }
   ],
   "source": [
    "data.y3classes_str_general.value_counts()"
   ]
  },
  {
   "cell_type": "code",
   "execution_count": 15,
   "metadata": {},
   "outputs": [
    {
     "data": {
      "text/plain": [
       "Polska                         19333\n",
       "United States                    761\n",
       "United Kingdom                   379\n",
       "臺灣                               333\n",
       "Deutschland                      281\n",
       "France                           173\n",
       "Italia                            99\n",
       "Canada                            95\n",
       "Nederland                         77\n",
       "日本                                73\n",
       "België / Belgique / Belgien       71\n",
       "España                            66\n",
       "Česko                             64\n",
       "أوروبا                            58\n",
       "Brasil                            49\n",
       "Sverige                           44\n",
       "ປະເທດລາວ                          41\n",
       "Australia                         38\n",
       "India                             37\n",
       "Россия                            30\n",
       "Name: country, dtype: int64"
      ]
     },
     "execution_count": 15,
     "metadata": {},
     "output_type": "execute_result"
    }
   ],
   "source": [
    "data.country.value_counts()[:20]"
   ]
  },
  {
   "cell_type": "code",
   "execution_count": 16,
   "metadata": {},
   "outputs": [],
   "source": [
    "data.to_json('data/location_data_all.json')"
   ]
  },
  {
   "cell_type": "code",
   "execution_count": null,
   "metadata": {},
   "outputs": [],
   "source": []
  }
 ],
 "metadata": {
  "interpreter": {
   "hash": "fd65c27c8b22c31d51ea274387f2c8057658454b571c14346d7ec6c9611e3aee"
  },
  "kernelspec": {
   "display_name": "Python 3.8.5 64-bit ('Cyfrowe': venv)",
   "language": "python",
   "name": "python3"
  },
  "language_info": {
   "codemirror_mode": {
    "name": "ipython",
    "version": 3
   },
   "file_extension": ".py",
   "mimetype": "text/x-python",
   "name": "python",
   "nbconvert_exporter": "python",
   "pygments_lexer": "ipython3",
   "version": "3.8.5"
  },
  "orig_nbformat": 4
 },
 "nbformat": 4,
 "nbformat_minor": 2
}
