{
 "cells": [
  {
   "cell_type": "code",
   "execution_count": null,
   "metadata": {},
   "outputs": [],
   "source": [
    "import pandas as pd\n",
    "import geopandas as gpd\n"
   ]
  },
  {
   "cell_type": "code",
   "execution_count": null,
   "metadata": {},
   "outputs": [],
   "source": [
    "df_f = pd.read_csv('data/dane_szczepien.csv', sep=';',\n",
    "                   encoding='utf-8')[['powiat_nazwa', 'wojewodztwo_nazwa']].groupby(['powiat_nazwa', 'wojewodztwo_nazwa']).sum().reset_index()\n"
   ]
  },
  {
   "cell_type": "code",
   "execution_count": null,
   "metadata": {},
   "outputs": [],
   "source": [
    "# df = pd.read_csv('daneaktualne_szczepienia/20220123075316_rap_rcb_pow_szczepienia.csv',\n",
    "#                  sep=';', encoding='windows-1250')\n",
    "df_vacc = pd.read_csv('data/dane_szczepien.csv', sep=';',\n",
    "                      encoding='utf-8').groupby('powiat_nazwa').sum().reset_index()\n",
    "df_vacc = pd.merge(df_vacc, df_f, on='powiat_nazwa')\n",
    "df_vacc_filtered = df_vacc[['powiat_nazwa', 'wojewodztwo_nazwa', 'powiat_teryt', 'liczba_ludnosci',\n",
    "                            'w1_zaszczepieni_pacjenci', 'w3_zaszczepieni_pelna_dawka']]\n",
    "df_distr = gpd.read_file(\"data/powiaty-max.geojson\")"
   ]
  },
  {
   "cell_type": "code",
   "execution_count": null,
   "metadata": {},
   "outputs": [],
   "source": [
    "df_distr['powiat_nazwa'] = df_distr['nazwa'].apply(lambda x: x.split(' ')[-1])\n",
    "df_vacc_filtered['czesc_wyszczepienia'] = df_vacc_filtered['w3_zaszczepieni_pelna_dawka'] / df_vacc_filtered['liczba_ludnosci']\n"
   ]
  },
  {
   "cell_type": "code",
   "execution_count": null,
   "metadata": {},
   "outputs": [],
   "source": [
    "print(df_distr.shape)\n",
    "print(df_vacc_filtered.shape)\n"
   ]
  },
  {
   "cell_type": "code",
   "execution_count": null,
   "metadata": {},
   "outputs": [],
   "source": [
    "full_df = pd.merge(df_distr, df_vacc_filtered, on='powiat_nazwa')\n"
   ]
  },
  {
   "cell_type": "markdown",
   "metadata": {},
   "source": [
    "# Folium"
   ]
  },
  {
   "cell_type": "code",
   "execution_count": null,
   "metadata": {},
   "outputs": [],
   "source": [
    "import folium "
   ]
  },
  {
   "cell_type": "code",
   "execution_count": null,
   "metadata": {},
   "outputs": [],
   "source": [
    "# geo_powiaty = \"stance_detection_geotwitter/data/powiaty-max.geojson\"\n",
    "geo_powiaty = \"data/powiaty-max.geojson\"\n",
    "with open(geo_powiaty, encoding=\"utf8\") as file_powiaty:\n",
    "    text_powiaty = file_powiaty.read()\n"
   ]
  },
  {
   "cell_type": "code",
   "execution_count": null,
   "metadata": {},
   "outputs": [],
   "source": [
    "m = folium.Map(location=[52, 19.23], zoom_start=7, tiles='stamentoner')\n",
    "folium.Choropleth(geo_data=text_powiaty,\n",
    "    data=full_df,\n",
    "    columns=['nazwa', 'czesc_wyszczepienia'],\n",
    "    legend_name='Część wyszczepienia',\n",
    "    fill_color='PuBu',\n",
    "    fill_opacity=0.7,\n",
    "    line_opacity=0.5,\n",
    "    key_on='feature.properties.nazwa',\n",
    ").add_to(m)\n",
    "\n",
    "m\n"
   ]
  },
  {
   "cell_type": "markdown",
   "metadata": {},
   "source": [
    "# Dane z AMC\n"
   ]
  },
  {
   "cell_type": "code",
   "execution_count": null,
   "metadata": {},
   "outputs": [],
   "source": [
    "df_amc = pd.read_json(\n",
    "    \"data/location_data_all_v2.json\")[['powiat_str', 'latitude', 'longitude', 'y3classes_sum', 'y3classes_str_general']]\n",
    "df_amc['nazwa'] = df_amc['powiat_str']\n",
    "df_amc.drop('powiat_str', axis=1)\n",
    "\n",
    "df_amc = df_amc.groupby('nazwa').sum().reset_index()\n"
   ]
  },
  {
   "cell_type": "code",
   "execution_count": null,
   "metadata": {},
   "outputs": [],
   "source": [
    "full_df_amc = pd.merge(df_amc, full_df, on='nazwa')"
   ]
  },
  {
   "cell_type": "code",
   "execution_count": null,
   "metadata": {},
   "outputs": [],
   "source": [
    "full_df_amc = gpd.GeoDataFrame(full_df_amc)\n"
   ]
  },
  {
   "cell_type": "markdown",
   "metadata": {},
   "source": [
    "# ML"
   ]
  },
  {
   "cell_type": "code",
   "execution_count": null,
   "metadata": {},
   "outputs": [],
   "source": [
    "variable_names = [\n",
    "    'y3classes_sum',\n",
    "    'powiat_teryt',\n",
    "    'liczba_ludnosci',\n",
    "]\n"
   ]
  },
  {
   "cell_type": "code",
   "execution_count": null,
   "metadata": {},
   "outputs": [],
   "source": [
    "from pysal.model import spreg\n"
   ]
  },
  {
   "cell_type": "code",
   "execution_count": null,
   "metadata": {},
   "outputs": [],
   "source": [
    "# Fit OLS model\n",
    "m1 = spreg.OLS(\n",
    "    # Dependent variable\n",
    "    full_df_amc[['czesc_wyszczepienia']].values,\n",
    "    # Independent variables\n",
    "    full_df_amc[variable_names].values,\n",
    "    # Dependent variable name\n",
    "    name_y='czesc_wyszczepienia',\n",
    "    # Independent variable name\n",
    "    name_x=variable_names\n",
    ")\n"
   ]
  },
  {
   "cell_type": "code",
   "execution_count": null,
   "metadata": {},
   "outputs": [],
   "source": [
    "print(m1.summary)\n"
   ]
  },
  {
   "cell_type": "code",
   "execution_count": null,
   "metadata": {},
   "outputs": [],
   "source": [
    "from pysal.lib import weights\n",
    "knn = weights.KNN.from_dataframe(full_df_amc, k=1)\n"
   ]
  },
  {
   "cell_type": "code",
   "execution_count": null,
   "metadata": {},
   "outputs": [],
   "source": [
    "import seaborn\n",
    "\n",
    "lag_residual = weights.spatial_lag.lag_spatial(knn, m1.u)\n",
    "ax = seaborn.regplot(\n",
    "    m1.u.flatten(),\n",
    "    lag_residual.flatten(),\n",
    "    line_kws=dict(color='orangered'),\n",
    "    ci=None\n",
    ")\n",
    "ax.set_xlabel('Model Residuals - $u$')\n",
    "ax.set_ylabel('Spatial Lag of Model Residuals - $W u$')\n"
   ]
  },
  {
   "cell_type": "code",
   "execution_count": null,
   "metadata": {},
   "outputs": [],
   "source": [
    "from pysal.explore import esda\n",
    "import contextily as cx\n",
    "import matplotlib.pyplot as plt\n",
    "\n",
    "\n",
    "# Re-weight W to 20 nearest neighbors\n",
    "knn.reweight(k=20, inplace=True)\n",
    "# Row standardise weights\n",
    "knn.transform = 'R'\n",
    "# Run LISA on residuals\n",
    "outliers = esda.moran.Moran_Local(m1.u, knn, permutations=9999)\n",
    "# Select only LISA cluster cores\n",
    "error_clusters = (outliers.q % 2 == 1)\n",
    "# Filter out non-significant clusters\n",
    "error_clusters &= (outliers.p_sim <= .001)\n",
    "# Add `error_clusters` and `local_I` columns\n",
    "ax = full_df_amc.assign(\n",
    "    error_clusters=error_clusters,\n",
    "    local_I=outliers.Is\n",
    "    # Retain error clusters only\n",
    ").query(\n",
    "    \"error_clusters\"\n",
    "    # Sort by I value to largest plot on top\n",
    ").sort_values(\n",
    "    'local_I'\n",
    "    # Plot I values\n",
    ").plot(\n",
    "    'local_I', cmap='bwr', marker='.', figsize=(16, 16)\n",
    ")\n",
    "# Add basemap\n",
    "cx.add_basemap(ax, crs=full_df_amc.crs.to_string(), \n",
    "                source=cx.providers.Stamen.Watercolor, \n",
    "                zoom=8,\n",
    "                interpolation='gaussian')\n",
    "cx.add_basemap(ax, crs=full_df_amc.crs.to_string(), \n",
    "                source=cx.providers.Stamen.TonerLabels, zoom=8)\n",
    "\n",
    "# # Remove axes\n",
    "ax.set_axis_off()\n",
    "plt.savefig('figure/localMoran.png', dpi=300)\n"
   ]
  },
  {
   "cell_type": "code",
   "execution_count": null,
   "metadata": {},
   "outputs": [],
   "source": [
    "# import numpy as np\n",
    "# import matplotlib.pyplot as plt\n",
    "# from mpl_toolkits.basemap import Basemap\n",
    "# import geopandas as gpd\n",
    "# import pandas as pd\n",
    "# from descartes import PolygonPatch\n",
    "# from matplotlib.collections import PatchCollection"
   ]
  },
  {
   "cell_type": "code",
   "execution_count": null,
   "metadata": {},
   "outputs": [],
   "source": [
    "# # fig = plt.figure(figsize=(8, 8))\n",
    "\n",
    "\n",
    "# ax = full_df_amc.assign(\n",
    "#     error_clusters=error_clusters,\n",
    "#     local_I=outliers.Is\n",
    "#     # Retain error clusters only\n",
    "# ).query(\n",
    "#     \"error_clusters\"\n",
    "#     # Sort by I value to largest plot on top\n",
    "# ).sort_values(\n",
    "#     'local_I'\n",
    "#     # Plot I values\n",
    "# ).plot(\n",
    "#     'local_I', cmap='bwr', marker='.', figsize=(16, 16))\n",
    "\n",
    "# m = Basemap(resolution='i',\n",
    "#             projection='aea',\n",
    "#             ellps='WGS84', \n",
    "#             lat_0=52, lon_0=19.22,\n",
    "#             width=0.75E6, height=0.7E6, ax = ax)\n",
    "# # m.shadedrelief()\n",
    "\n",
    "\n",
    "# m.drawcoastlines(linewidth=0.5)\n",
    "# # m.drawcountries(linewidth=2, linestyle='solid', color='k' ) \n",
    "# # m.drawstates(linewidth=0.5, linestyle='solid', color='k')\n",
    "# # water = 'lightskyblue'\n",
    "# # earth = 'cornsilk'\n",
    "# # m.drawcoastlines()\n",
    "# # m.drawrivers(color=water, linewidth=1.5)\n",
    "# # m.fillcontinents(\n",
    "# #     color=earth,\n",
    "# #     lake_color=water)\n",
    "# # m.drawmapboundary(fill_color=water)\n",
    "# # m.drawcountries()\n",
    "# # m.drawmeridians(\n",
    "# #     np.arange(-180, 180, 2), \n",
    "# #     labels=[False, False, False, True])\n",
    "# # m.drawparallels(\n",
    "# #     np.arange(0, 80), \n",
    "# #     labels=[True, True, False, False])\n",
    "\n",
    "\n",
    "# plt.savefig('figure/mapa_general_regresion.png', dpi=400)"
   ]
  },
  {
   "cell_type": "markdown",
   "metadata": {},
   "source": [
    "# Spatial ML"
   ]
  },
  {
   "cell_type": "code",
   "execution_count": null,
   "metadata": {},
   "outputs": [],
   "source": [
    "import statsmodels.formula.api as sm\n",
    "from shapely.geometry import Point\n"
   ]
  },
  {
   "cell_type": "code",
   "execution_count": null,
   "metadata": {},
   "outputs": [],
   "source": [
    "# Czy jest w pobliżu najlepiej komentujących?\n",
    "rk = weights.Rook.from_dataframe(full_df_amc)\n",
    "\n",
    "full_df_amc['pos_neg_per_person'] = full_df_amc['y3classes_sum'] / full_df_amc['liczba_ludnosci']\n",
    "full_df_amc['neighbouring_powiaty'] = [[full_df_amc.iloc[x]['powiat_nazwa'] for x in n_powiaty]\n",
    "                                       for n_powiaty in list(rk.neighbors.values())]\n",
    "\n",
    "most_pos = list(full_df_amc.sort_values('pos_neg_per_person', ascending=False).head(25)['powiat_nazwa'])\n",
    "most_neg = list(full_df_amc.sort_values('pos_neg_per_person', ascending=True).head(25)['powiat_nazwa'])\n",
    "\n",
    "def powiatowy(x):\n",
    "    total = 0\n",
    "    for y in x:\n",
    "        if y in most_pos:\n",
    "            total += 1\n",
    "        elif y in most_neg:\n",
    "            total -= 1\n",
    "    return 1 if total > 0 else -1 if total < 0 else 0 \n",
    "\n",
    "full_df_amc['neighborhood_pozytywny'] = full_df_amc['neighbouring_powiaty'].apply(powiatowy)\n"
   ]
  },
  {
   "cell_type": "code",
   "execution_count": null,
   "metadata": {},
   "outputs": [],
   "source": [
    "full_df_amc.plot(column='neighborhood_pozytywny', categorical=False, legend=True, figsize=(12,12))\n"
   ]
  },
  {
   "cell_type": "code",
   "execution_count": null,
   "metadata": {},
   "outputs": [],
   "source": [
    "# variable_names.append('neighborhood_pozytywny')\n",
    "variable_names.append('pos_neg_per_person')"
   ]
  },
  {
   "cell_type": "markdown",
   "metadata": {},
   "source": [
    "### Po dodaniu województw jako zależności geograficznych."
   ]
  },
  {
   "cell_type": "code",
   "execution_count": null,
   "metadata": {},
   "outputs": [],
   "source": [
    "# PySAL spatial fixed effect implementation\n",
    "m4 = spreg.OLS_Regimes(\n",
    "    # Dependent variable\n",
    "    full_df_amc[['czesc_wyszczepienia']].values,\n",
    "    # Independent variables\n",
    "    full_df_amc[variable_names].values,\n",
    "    # Variable specifying neighborhood membership\n",
    "    full_df_amc['wojewodztwo_nazwa'].tolist(),\n",
    "    # Allow the constant term to vary by group/regime\n",
    "    constant_regi='many',\n",
    "    # Variables to be allowed to vary (True) or kept\n",
    "    # constant (False). Here we set all to False\n",
    "    cols2regi=[False]*len(variable_names),\n",
    "    # Allow separate sigma coefficients to be estimated\n",
    "    # by regime (False so a single sigma)\n",
    "    regime_err_sep=False,\n",
    "    # Dependent variable name\n",
    "    name_y='czesc_wyszczepienia',\n",
    "    # Independent variables names\n",
    "    name_x=variable_names\n",
    ")\n"
   ]
  },
  {
   "cell_type": "code",
   "execution_count": null,
   "metadata": {},
   "outputs": [],
   "source": [
    "print(m4.summary)\n"
   ]
  },
  {
   "cell_type": "code",
   "execution_count": null,
   "metadata": {},
   "outputs": [],
   "source": [
    "knn = weights.KNN.from_dataframe(full_df_amc, k=1)\n",
    "lag_residual = weights.spatial_lag.lag_spatial(knn, m4.u)\n",
    "ax = seaborn.regplot(\n",
    "    m4.u.flatten(),\n",
    "    lag_residual.flatten(),\n",
    "    line_kws=dict(color='orangered'),\n",
    "    ci=None\n",
    ")\n",
    "ax.set_xlabel('Model Residuals - $u$')\n",
    "ax.set_ylabel('Spatial Lag of Model Residuals - $W u$')\n"
   ]
  },
  {
   "cell_type": "markdown",
   "metadata": {},
   "source": [
    "### Po sprawdzeniu \"najbardziej pozytywnych i negatywnych\" sąsiadów jako zależności geo"
   ]
  },
  {
   "cell_type": "code",
   "execution_count": null,
   "metadata": {},
   "outputs": [],
   "source": [
    "# PySAL spatial regimes implementation\n",
    "m5 = spreg.OLS_Regimes(\n",
    "    # Dependent variable\n",
    "    full_df_amc[['czesc_wyszczepienia']].values,\n",
    "    # Independent variables\n",
    "    full_df_amc[variable_names].values,\n",
    "    # Variable specifying neighborhood membership\n",
    "    full_df_amc['neighborhood_pozytywny'].tolist(),\n",
    "    # Allow the constant term to vary by group/regime\n",
    "    constant_regi='many',\n",
    "    # Allow separate sigma coefficients to be estimated\n",
    "    # by regime (False so a single sigma)\n",
    "    regime_err_sep=False,\n",
    "    # Dependent variable name\n",
    "    name_y='czesc_wyszczepienia',\n",
    "    # Independent variables names\n",
    "    name_x=variable_names\n",
    ")\n"
   ]
  },
  {
   "cell_type": "code",
   "execution_count": null,
   "metadata": {},
   "outputs": [],
   "source": [
    "print(m5.summary)\n"
   ]
  },
  {
   "cell_type": "markdown",
   "metadata": {},
   "source": [
    "### The SLX Model - dodanie spacial lag'a"
   ]
  },
  {
   "cell_type": "code",
   "execution_count": null,
   "metadata": {},
   "outputs": [],
   "source": [
    "wx = full_df_amc[variable_names].apply(\n",
    "    lambda y: weights.spatial_lag.lag_spatial(knn, y)\n",
    "    # Rename the spatial lag, adding w_ to the original name\n",
    ").rename(columns=lambda c: 'w_'+c\n",
    "    # Remove the lag of the binary variable for apartments\n",
    "         )\n",
    "\n",
    "slx_exog = full_df_amc[variable_names].join(wx)\n",
    "# Fit linear model with `spreg`\n",
    "m6 = spreg.OLS(\n",
    "    # Dependent variable\n",
    "    full_df_amc[['czesc_wyszczepienia']].values,\n",
    "    # Independent variables\n",
    "    slx_exog.values,\n",
    "    # Dependent variable name\n",
    "    name_y='czesc_wyszczepienia',\n",
    "    # Independent variables names\n",
    "    name_x=slx_exog.columns.tolist()\n",
    ")\n"
   ]
  },
  {
   "cell_type": "code",
   "execution_count": null,
   "metadata": {},
   "outputs": [],
   "source": [
    "print(m6.summary)\n"
   ]
  },
  {
   "cell_type": "markdown",
   "metadata": {},
   "source": [
    "# All together!"
   ]
  },
  {
   "cell_type": "code",
   "execution_count": null,
   "metadata": {},
   "outputs": [],
   "source": [
    "full_df_amc = pd.merge(df_amc, full_df, on='nazwa')\n",
    "full_df_amc = gpd.GeoDataFrame(full_df_amc)\n",
    "\n",
    "variable_names = [\n",
    "    'y3classes_sum',\n",
    "    'powiat_teryt',\n",
    "    'liczba_ludnosci',\n",
    "]\n",
    "\n",
    "rk = weights.Rook.from_dataframe(full_df_amc)\n",
    "\n",
    "full_df_amc['pos_neg_per_person'] = full_df_amc['y3classes_sum'] / full_df_amc['liczba_ludnosci']\n",
    "full_df_amc['neighbouring_powiaty'] = [[full_df_amc.iloc[x]['powiat_nazwa'] for x in n_powiaty]\n",
    "                                       for n_powiaty in list(rk.neighbors.values())]\n",
    "\n",
    "most_pos = list(full_df_amc.sort_values('pos_neg_per_person', ascending=False).head(25)['powiat_nazwa'])\n",
    "most_neg = list(full_df_amc.sort_values('pos_neg_per_person', ascending=True).head(25)['powiat_nazwa'])\n",
    "\n",
    "\n",
    "def powiatowy(x):\n",
    "    total = 0\n",
    "    for y in x:\n",
    "        if y in most_pos:\n",
    "            total += 1\n",
    "        elif y in most_neg:\n",
    "            total -= 1\n",
    "    return 1 if total > 0 else -1 if total < 0 else 0\n",
    "\n",
    "\n",
    "full_df_amc['neighborhood_pozytywny'] = full_df_amc['neighbouring_powiaty'].apply(powiatowy)\n",
    "\n",
    "variable_names.append('neighborhood_pozytywny') # Adding this info as a var\n",
    "variable_names.append('pos_neg_per_person')\n",
    "\n",
    "knn = weights.KNN.from_dataframe(full_df_amc, k=20)\n",
    "wx = full_df_amc[variable_names].apply(\n",
    "    lambda y: weights.spatial_lag.lag_spatial(knn, y)\n",
    "    # Rename the spatial lag, adding w_ to the original name\n",
    ").rename(columns=lambda c: 'w_'+c\n",
    "         # Remove the lag of the binary variable for apartments\n",
    "         )\n",
    "\n",
    "slx_exog = full_df_amc[variable_names].join(wx)\n"
   ]
  },
  {
   "cell_type": "code",
   "execution_count": null,
   "metadata": {},
   "outputs": [],
   "source": [
    "slx_exog.iloc[0]\n"
   ]
  },
  {
   "cell_type": "code",
   "execution_count": null,
   "metadata": {},
   "outputs": [],
   "source": [
    "m7 = spreg.OLS_Regimes(\n",
    "    # Dependent variable\n",
    "    full_df_amc[['czesc_wyszczepienia']].values,\n",
    "    # Independent variables\n",
    "    slx_exog.values,\n",
    "    # Variable specifying neighborhood membership\n",
    "    full_df_amc['wojewodztwo_nazwa'].tolist(),\n",
    "    # Allow the constant term to vary by group/regime\n",
    "    constant_regi='many',\n",
    "    # Variables to be allowed to vary (True) or kept\n",
    "    # constant (False). Here we set all to False\n",
    "    cols2regi=[False]*len(variable_names)*2,\n",
    "    # Allow separate sigma coefficients to be estimated\n",
    "    # by regime (False so a single sigma)\n",
    "    regime_err_sep=False,\n",
    "    # Dependent variable name\n",
    "    name_y='czesc_wyszczepienia',\n",
    "    # Independent variables names\n",
    "    name_x=slx_exog.columns.tolist()\n",
    ")\n"
   ]
  },
  {
   "cell_type": "code",
   "execution_count": null,
   "metadata": {},
   "outputs": [],
   "source": [
    "print(m7.summary)\n"
   ]
  },
  {
   "cell_type": "markdown",
   "metadata": {},
   "source": [
    "# TEST AREA"
   ]
  }
 ],
 "metadata": {
  "interpreter": {
   "hash": "8b3149400eaa1b2f4b613c77799adbffbf74036d05abefb4bd2badca87c4a2f7"
  },
  "kernelspec": {
   "display_name": "Python 3.9.5 64-bit ('DNN': conda)",
   "language": "python",
   "name": "python3"
  },
  "language_info": {
   "codemirror_mode": {
    "name": "ipython",
    "version": 3
   },
   "file_extension": ".py",
   "mimetype": "text/x-python",
   "name": "python",
   "nbconvert_exporter": "python",
   "pygments_lexer": "ipython3",
   "version": "3.8.10"
  },
  "orig_nbformat": 4
 },
 "nbformat": 4,
 "nbformat_minor": 2
}
