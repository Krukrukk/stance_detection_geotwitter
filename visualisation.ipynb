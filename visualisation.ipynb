{
 "cells": [
  {
   "cell_type": "markdown",
   "metadata": {},
   "source": [
    "# Wizualizacje nastawienia dla użytkowników z polski"
   ]
  },
  {
   "cell_type": "code",
   "execution_count": null,
   "metadata": {},
   "outputs": [],
   "source": [
    "import pandas as pd\n",
    "import numpy as np\n",
    "import folium\n",
    "from folium import GeoJson\n",
    "from folium import plugins\n",
    "import io\n",
    "from PIL import Image\n",
    "# from selenium import webdriver\n",
    "import time"
   ]
  },
  {
   "cell_type": "markdown",
   "metadata": {},
   "source": [
    "## Folium"
   ]
  },
  {
   "cell_type": "code",
   "execution_count": null,
   "metadata": {},
   "outputs": [],
   "source": [
    "geo_wojewodztwo=r\"data/wojewodztwa-max.geojson\"\n",
    "file_wojewodztwo = open(geo_wojewodztwo, encoding=\"utf8\")\n",
    "text_wojewodztwo = file_wojewodztwo.read()\n",
    "\n",
    "geo_powiaty=r\"data/powiaty-max.geojson\"\n",
    "file_powiaty = open(geo_powiaty, encoding=\"utf8\")\n",
    "text_powiaty = file_powiaty.read()"
   ]
  },
  {
   "cell_type": "code",
   "execution_count": null,
   "metadata": {},
   "outputs": [],
   "source": [
    "data = pd.read_json('data/location_data_all_v2.json')\n",
    "data_support = data[data.y3classes_str_general == 'Zwolennicy']\n",
    "data_against = data[data.y3classes_str_general == 'Przeciwnicy']\n",
    "Przeciwnicy_color = \"#FF5E5B\"\n",
    "Zwolennicy_color = \"#28965A\""
   ]
  },
  {
   "cell_type": "code",
   "execution_count": null,
   "metadata": {},
   "outputs": [],
   "source": [
    "m = folium.Map(location=[52,19.23],zoom_start=7, tiles=\"Stamen Toner\")\n",
    "GeoJson(text_wojewodztwo,\n",
    "       style_function=lambda feature: {    \n",
    "        'fillColor': '#adff2f',           \n",
    "        'color':None, \n",
    "        'weight': 1,\n",
    "        'dashArray': '4, 4'\n",
    "    }).add_to(m)\n",
    "m"
   ]
  },
  {
   "cell_type": "code",
   "execution_count": null,
   "metadata": {},
   "outputs": [],
   "source": [
    "data_support_wojewodztwo = data_support.groupby(by=['wojewodztwo_str'])['id'].count().reset_index()\n",
    "data_against_wojewodztwo = data_against.groupby(by=['wojewodztwo_str'])['id'].count().reset_index()\n",
    "data_support_powiat = data_support.groupby(by=['powiat_str'])['id'].count().reset_index()\n",
    "data_against_powiat = data_against.groupby(by=['powiat_str'])['id'].count().reset_index()"
   ]
  },
  {
   "cell_type": "code",
   "execution_count": null,
   "metadata": {},
   "outputs": [],
   "source": [
    "# m = folium.Map(location=[52,19.23],zoom_start=7, tiles=\"Stamen Toner\")\n",
    "# folium.Choropleth(\n",
    "#     geo_data=text_wojewodztwo,\n",
    "#     data=data_support_wojewodztwo,\n",
    "#     columns=['wojewodztwo_str','id'],   \n",
    "#     legend_name='Liczba zwolenników szczepienia',\n",
    "#     fill_color = 'YlGn',\n",
    "#     fill_opacity = 0.7,\n",
    "#     line_opacity = 0.2,\n",
    "#     key_on='feature.properties.nazwa'\n",
    "#     ).add_to(m)\n",
    "# m"
   ]
  },
  {
   "cell_type": "code",
   "execution_count": null,
   "metadata": {},
   "outputs": [],
   "source": [
    "# m = folium.Map(location=[52,19.23],zoom_start=7, tiles=\"Stamen Toner\")\n",
    "# folium.Choropleth(\n",
    "#     geo_data=text_wojewodztwo,\n",
    "#     data=data_against_wojewodztwo,\n",
    "#     columns=['wojewodztwo_str','id'],   \n",
    "#     legend_name='Liczba przeciwników szczepienia',\n",
    "#     fill_color = 'YlOrRd',\n",
    "#     fill_opacity = 0.7,\n",
    "#     line_opacity = 0.2,\n",
    "#     key_on='feature.properties.nazwa'\n",
    "#     ).add_to(m)\n",
    "# m"
   ]
  },
  {
   "cell_type": "code",
   "execution_count": null,
   "metadata": {},
   "outputs": [],
   "source": [
    "# m = folium.Map(location=[52,19.23],zoom_start=7, tiles=\"Stamen Toner\")\n",
    "# folium.Choropleth(\n",
    "#     geo_data=text_powiaty,\n",
    "#     data=data_support_powiat,\n",
    "#     columns=['powiat_str','id'],   \n",
    "#     legend_name='Liczba zwolenników szczepienia',\n",
    "#     fill_color = 'YlGn',\n",
    "#     fill_opacity = 0.7,\n",
    "#     line_opacity = 0.2,\n",
    "#     key_on='feature.properties.nazwa'\n",
    "#     ).add_to(m)\n",
    "# m"
   ]
  },
  {
   "cell_type": "code",
   "execution_count": null,
   "metadata": {},
   "outputs": [],
   "source": [
    "# m = folium.Map(location=[52,19.23],zoom_start=7, tiles='cartodbpositron')\n",
    "# folium.Choropleth(\n",
    "#     geo_data=text_powiaty,\n",
    "#     data=data_against_powiat,\n",
    "#     columns=['powiat_str','id'],   \n",
    "#     legend_name='Liczba przeciwników szczepienia',\n",
    "#     fill_color = 'YlOrRd',\n",
    "#     fill_opacity = 0.7,\n",
    "#     line_opacity = 0.2,\n",
    "#     key_on='feature.properties.nazwa'\n",
    "#     ).add_to(m)\n",
    "# m"
   ]
  },
  {
   "cell_type": "code",
   "execution_count": null,
   "metadata": {},
   "outputs": [],
   "source": [
    "data_wojewodztwo = pd.merge(left=data_support_wojewodztwo, right=data_against_wojewodztwo, on='wojewodztwo_str')\n",
    "data_wojewodztwo['sum'] = data_wojewodztwo['id_x'] + data_wojewodztwo['id_y']\n",
    "data_wojewodztwo['proc_support'] = 100*data_wojewodztwo['id_x']/data_wojewodztwo['sum']\n",
    "data_wojewodztwo['proc_against'] = 100*data_wojewodztwo['id_y']/data_wojewodztwo['sum']\n",
    "data_wojewodztwo"
   ]
  },
  {
   "cell_type": "code",
   "execution_count": null,
   "metadata": {},
   "outputs": [],
   "source": [
    "data_wojewodztwo.columns"
   ]
  },
  {
   "cell_type": "code",
   "execution_count": null,
   "metadata": {},
   "outputs": [],
   "source": [
    "# folium.Map?"
   ]
  },
  {
   "cell_type": "code",
   "execution_count": null,
   "metadata": {},
   "outputs": [],
   "source": [
    "m = folium.Map(location=[52,19.23],zoom_start=7, tiles=\"Stamen Watercolor\")\n",
    "folium.Choropleth(\n",
    "    geo_data=text_wojewodztwo,\n",
    "    data=data_wojewodztwo,\n",
    "    columns=['wojewodztwo_str','proc_support'],   \n",
    "    legend_name='Liczba zwolenników szczepienia (w %)',\n",
    "    fill_color = 'YlGn',\n",
    "    fill_opacity = 0.7,\n",
    "    line_opacity = 0.2,\n",
    "    key_on='feature.properties.nazwa'\n",
    "    ).add_to(m)\n",
    "\n",
    "# map2name = 'support_folium_wojewodztwo.html'\n",
    "# m.save(map2name)\n",
    "\n",
    "# mapUrl = f'file://{os.getcwd()}/{map2name}'\n",
    "\n",
    "# driver = webdriver.Edge()\n",
    "# driver.get(mapUrl)\n",
    "# time.sleep(5)\n",
    "# driver.save_screenshot('support_folium_wojewodztwo.png')\n",
    "# driver.quit()\n",
    "m\n"
   ]
  },
  {
   "cell_type": "code",
   "execution_count": null,
   "metadata": {},
   "outputs": [],
   "source": [
    "m = folium.Map(location=[52,19.23],zoom_start=6.7,  tiles=\"Stamen Watercolor\")\n",
    "folium.Choropleth(\n",
    "    geo_data=text_wojewodztwo,\n",
    "    data=data_wojewodztwo,\n",
    "    columns=['wojewodztwo_str','proc_against'],   \n",
    "    legend_name='Liczba przeciwników szczepienia (w %)',\n",
    "    fill_color = 'YlOrRd',\n",
    "    fill_opacity = 0.7,\n",
    "    line_opacity = 0.2,\n",
    "    key_on='feature.properties.nazwa'\n",
    "    ).add_to(m)\n",
    "m"
   ]
  },
  {
   "cell_type": "code",
   "execution_count": null,
   "metadata": {},
   "outputs": [],
   "source": [
    "data_powiat = pd.merge(left=data_support_powiat, right=data_against_powiat, on='powiat_str')\n",
    "data_powiat['sum'] = data_powiat['id_x'] + data_powiat['id_y']\n",
    "data_powiat['proc_support'] = 100*data_powiat['id_x']/data_powiat['sum']\n",
    "data_powiat['proc_against'] = 100*data_powiat['id_y']/data_powiat['sum']\n",
    "data_powiat"
   ]
  },
  {
   "cell_type": "code",
   "execution_count": null,
   "metadata": {},
   "outputs": [],
   "source": [
    "m = folium.Map(location=[52,19.23],zoom_start=7, tiles=\"Stamen Toner\")\n",
    "folium.Choropleth(\n",
    "    geo_data=text_powiaty,\n",
    "    data=data_powiat,\n",
    "    columns=['powiat_str','proc_support'],   \n",
    "    legend_name='Liczba zwolenników szczepienia (w %)',\n",
    "    fill_color = 'YlGn',\n",
    "    fill_opacity = 0.7,\n",
    "    line_opacity = 0.2,\n",
    "    key_on='feature.properties.nazwa'\n",
    "    ).add_to(m)\n",
    "m"
   ]
  },
  {
   "cell_type": "code",
   "execution_count": null,
   "metadata": {},
   "outputs": [],
   "source": [
    "m = folium.Map(location=[52,19.23],zoom_start=7, tiles=\"Stamen Toner\")\n",
    "folium.Choropleth(\n",
    "    geo_data=text_powiaty,\n",
    "    data=data_powiat,\n",
    "    columns=['powiat_str','proc_against'],   \n",
    "    legend_name='Liczba przeciwników szczepienia (w %)',\n",
    "    fill_color = 'YlOrRd',\n",
    "    fill_opacity = 0.7,\n",
    "    line_opacity = 0.2,\n",
    "    key_on='feature.properties.nazwa'\n",
    "    ).add_to(m)\n",
    "m"
   ]
  },
  {
   "cell_type": "code",
   "execution_count": null,
   "metadata": {},
   "outputs": [],
   "source": [
    "m = folium.Map(location=[52,19.23],zoom_start=7)\n",
    "for cor in data_support.coordinate:\n",
    "    folium.CircleMarker(location=(cor[0], cor[1]),radius=2, color=Zwolennicy_color).add_to(m)\n",
    "for cor in data_against.coordinate:\n",
    "    folium.CircleMarker(location=(cor[0], cor[1]),radius=2, color=Przeciwnicy_color).add_to(m)\n",
    "m"
   ]
  },
  {
   "cell_type": "code",
   "execution_count": null,
   "metadata": {},
   "outputs": [],
   "source": [
    "m = folium.Map(location=[52,19.23],zoom_start=7)\n",
    "heat_data = data_support.groupby([\"latitude\",\"longitude\"])['id'].count()\\\n",
    "                .reset_index().values.tolist()  \n",
    "folium.plugins.HeatMap(heat_data, radius=20, blur=15, min_opacity=0.5).add_to(m)\n",
    "m"
   ]
  },
  {
   "cell_type": "code",
   "execution_count": null,
   "metadata": {},
   "outputs": [],
   "source": []
  }
 ],
 "metadata": {
  "interpreter": {
   "hash": "fd65c27c8b22c31d51ea274387f2c8057658454b571c14346d7ec6c9611e3aee"
  },
  "kernelspec": {
   "display_name": "Python 3.8.5 64-bit ('Cyfrowe': venv)",
   "language": "python",
   "name": "python3"
  },
  "language_info": {
   "codemirror_mode": {
    "name": "ipython",
    "version": 3
   },
   "file_extension": ".py",
   "mimetype": "text/x-python",
   "name": "python",
   "nbconvert_exporter": "python",
   "pygments_lexer": "ipython3",
   "version": "3.8.10"
  },
  "orig_nbformat": 4
 },
 "nbformat": 4,
 "nbformat_minor": 2
}
